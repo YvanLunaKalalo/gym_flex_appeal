{
 "cells": [
  {
   "cell_type": "code",
   "execution_count": 11,
   "id": "9ffcfcf2-a57d-4ee4-b362-dbd61d571f5c",
   "metadata": {},
   "outputs": [],
   "source": [
    "import pandas as pd"
   ]
  },
  {
   "cell_type": "code",
   "execution_count": 12,
   "id": "79103f39-8678-4427-85b7-839affa35d6c",
   "metadata": {},
   "outputs": [],
   "source": [
    "df1 = pd.read_csv('gym_recommedation(cleaned).csv')"
   ]
  },
  {
   "cell_type": "code",
   "execution_count": 2,
   "id": "ddc7ce38-5526-4061-ae85-f92735e7266c",
   "metadata": {},
   "outputs": [
    {
     "ename": "NameError",
     "evalue": "name 'df1' is not defined",
     "output_type": "error",
     "traceback": [
      "\u001b[1;31m---------------------------------------------------------------------------\u001b[0m",
      "\u001b[1;31mNameError\u001b[0m                                 Traceback (most recent call last)",
      "Cell \u001b[1;32mIn[2], line 1\u001b[0m\n\u001b[1;32m----> 1\u001b[0m \u001b[38;5;28mprint\u001b[39m(\u001b[43mdf1\u001b[49m\u001b[38;5;241m.\u001b[39mto_string())\n",
      "\u001b[1;31mNameError\u001b[0m: name 'df1' is not defined"
     ]
    }
   ],
   "source": [
    "df1.head()"
   ]
  },
  {
   "cell_type": "code",
   "execution_count": 14,
   "id": "14c2c02d-95de-4867-97bf-a4b32fe4910b",
   "metadata": {},
   "outputs": [],
   "source": [
    "df2 = pd.read_csv('MegaGymDataset(cleaned).csv')"
   ]
  },
  {
   "cell_type": "code",
   "execution_count": 15,
   "id": "37282100-8bf6-4e88-8b08-b7721437bd2f",
   "metadata": {},
   "outputs": [
    {
     "data": {
      "text/html": [
       "<div>\n",
       "<style scoped>\n",
       "    .dataframe tbody tr th:only-of-type {\n",
       "        vertical-align: middle;\n",
       "    }\n",
       "\n",
       "    .dataframe tbody tr th {\n",
       "        vertical-align: top;\n",
       "    }\n",
       "\n",
       "    .dataframe thead th {\n",
       "        text-align: right;\n",
       "    }\n",
       "</style>\n",
       "<table border=\"1\" class=\"dataframe\">\n",
       "  <thead>\n",
       "    <tr style=\"text-align: right;\">\n",
       "      <th></th>\n",
       "      <th>Unnamed: 0.1</th>\n",
       "      <th>Unnamed: 0</th>\n",
       "      <th>Title</th>\n",
       "      <th>Desc</th>\n",
       "      <th>Type</th>\n",
       "      <th>BodyPart</th>\n",
       "      <th>Equipment</th>\n",
       "      <th>Level</th>\n",
       "      <th>Rating</th>\n",
       "      <th>RatingDesc</th>\n",
       "    </tr>\n",
       "  </thead>\n",
       "  <tbody>\n",
       "    <tr>\n",
       "      <th>0</th>\n",
       "      <td>8</td>\n",
       "      <td>8</td>\n",
       "      <td>Barbell roll-out</td>\n",
       "      <td>The barbell roll-out is an abdominal exercise ...</td>\n",
       "      <td>Strength</td>\n",
       "      <td>Abdominals</td>\n",
       "      <td>Barbell</td>\n",
       "      <td>Intermediate</td>\n",
       "      <td>8.9</td>\n",
       "      <td>Average</td>\n",
       "    </tr>\n",
       "    <tr>\n",
       "      <th>1</th>\n",
       "      <td>9</td>\n",
       "      <td>9</td>\n",
       "      <td>Barbell Ab Rollout - On Knees</td>\n",
       "      <td>The barbell roll-out is an abdominal exercise ...</td>\n",
       "      <td>Strength</td>\n",
       "      <td>Abdominals</td>\n",
       "      <td>Barbell</td>\n",
       "      <td>Intermediate</td>\n",
       "      <td>8.9</td>\n",
       "      <td>Average</td>\n",
       "    </tr>\n",
       "    <tr>\n",
       "      <th>2</th>\n",
       "      <td>10</td>\n",
       "      <td>10</td>\n",
       "      <td>Decline bar press sit-up</td>\n",
       "      <td>The decline bar press sit-up is a weighted cor...</td>\n",
       "      <td>Strength</td>\n",
       "      <td>Abdominals</td>\n",
       "      <td>Barbell</td>\n",
       "      <td>Intermediate</td>\n",
       "      <td>8.5</td>\n",
       "      <td>Average</td>\n",
       "    </tr>\n",
       "    <tr>\n",
       "      <th>3</th>\n",
       "      <td>11</td>\n",
       "      <td>11</td>\n",
       "      <td>Bench barbell roll-out</td>\n",
       "      <td>The bench barbell roll-out is a challenging ex...</td>\n",
       "      <td>Strength</td>\n",
       "      <td>Abdominals</td>\n",
       "      <td>Barbell</td>\n",
       "      <td>Beginner</td>\n",
       "      <td>8.3</td>\n",
       "      <td>Average</td>\n",
       "    </tr>\n",
       "    <tr>\n",
       "      <th>4</th>\n",
       "      <td>13</td>\n",
       "      <td>13</td>\n",
       "      <td>Seated bar twist</td>\n",
       "      <td>The seated bar twist is a core exercise meant ...</td>\n",
       "      <td>Strength</td>\n",
       "      <td>Abdominals</td>\n",
       "      <td>Barbell</td>\n",
       "      <td>Intermediate</td>\n",
       "      <td>4.7</td>\n",
       "      <td>Average</td>\n",
       "    </tr>\n",
       "  </tbody>\n",
       "</table>\n",
       "</div>"
      ],
      "text/plain": [
       "   Unnamed: 0.1  Unnamed: 0                          Title  \\\n",
       "0             8           8               Barbell roll-out   \n",
       "1             9           9  Barbell Ab Rollout - On Knees   \n",
       "2            10          10       Decline bar press sit-up   \n",
       "3            11          11         Bench barbell roll-out   \n",
       "4            13          13               Seated bar twist   \n",
       "\n",
       "                                                Desc      Type    BodyPart  \\\n",
       "0  The barbell roll-out is an abdominal exercise ...  Strength  Abdominals   \n",
       "1  The barbell roll-out is an abdominal exercise ...  Strength  Abdominals   \n",
       "2  The decline bar press sit-up is a weighted cor...  Strength  Abdominals   \n",
       "3  The bench barbell roll-out is a challenging ex...  Strength  Abdominals   \n",
       "4  The seated bar twist is a core exercise meant ...  Strength  Abdominals   \n",
       "\n",
       "  Equipment         Level  Rating RatingDesc  \n",
       "0   Barbell  Intermediate     8.9    Average  \n",
       "1   Barbell  Intermediate     8.9    Average  \n",
       "2   Barbell  Intermediate     8.5    Average  \n",
       "3   Barbell      Beginner     8.3    Average  \n",
       "4   Barbell  Intermediate     4.7    Average  "
      ]
     },
     "execution_count": 15,
     "metadata": {},
     "output_type": "execute_result"
    }
   ],
   "source": [
    "df2.head()"
   ]
  },
  {
   "cell_type": "code",
   "execution_count": null,
   "id": "4107ce52-959d-4e21-b97f-d6a8d298fdb3",
   "metadata": {},
   "outputs": [],
   "source": []
  }
 ],
 "metadata": {
  "kernelspec": {
   "display_name": "Python 3 (ipykernel)",
   "language": "python",
   "name": "python3"
  },
  "language_info": {
   "codemirror_mode": {
    "name": "ipython",
    "version": 3
   },
   "file_extension": ".py",
   "mimetype": "text/x-python",
   "name": "python",
   "nbconvert_exporter": "python",
   "pygments_lexer": "ipython3",
   "version": "3.12.3"
  }
 },
 "nbformat": 4,
 "nbformat_minor": 5
}
